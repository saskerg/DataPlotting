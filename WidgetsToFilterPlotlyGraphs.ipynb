{
 "cells": [
  {
   "cell_type": "code",
   "execution_count": 8,
   "id": "36cc1a1b",
   "metadata": {},
   "outputs": [
    {
     "data": {
      "text/html": [
       "<div>\n",
       "<style scoped>\n",
       "    .dataframe tbody tr th:only-of-type {\n",
       "        vertical-align: middle;\n",
       "    }\n",
       "\n",
       "    .dataframe tbody tr th {\n",
       "        vertical-align: top;\n",
       "    }\n",
       "\n",
       "    .dataframe thead th {\n",
       "        text-align: right;\n",
       "    }\n",
       "</style>\n",
       "<table border=\"1\" class=\"dataframe\">\n",
       "  <thead>\n",
       "    <tr style=\"text-align: right;\">\n",
       "      <th></th>\n",
       "      <th>sepal_length</th>\n",
       "      <th>sepal_width</th>\n",
       "      <th>petal_length</th>\n",
       "      <th>petal_width</th>\n",
       "      <th>species</th>\n",
       "      <th>species_id</th>\n",
       "    </tr>\n",
       "  </thead>\n",
       "  <tbody>\n",
       "    <tr>\n",
       "      <th>0</th>\n",
       "      <td>5.1</td>\n",
       "      <td>3.5</td>\n",
       "      <td>1.4</td>\n",
       "      <td>0.2</td>\n",
       "      <td>setosa</td>\n",
       "      <td>1</td>\n",
       "    </tr>\n",
       "    <tr>\n",
       "      <th>1</th>\n",
       "      <td>4.9</td>\n",
       "      <td>3.0</td>\n",
       "      <td>1.4</td>\n",
       "      <td>0.2</td>\n",
       "      <td>setosa</td>\n",
       "      <td>1</td>\n",
       "    </tr>\n",
       "    <tr>\n",
       "      <th>2</th>\n",
       "      <td>4.7</td>\n",
       "      <td>3.2</td>\n",
       "      <td>1.3</td>\n",
       "      <td>0.2</td>\n",
       "      <td>setosa</td>\n",
       "      <td>1</td>\n",
       "    </tr>\n",
       "    <tr>\n",
       "      <th>3</th>\n",
       "      <td>4.6</td>\n",
       "      <td>3.1</td>\n",
       "      <td>1.5</td>\n",
       "      <td>0.2</td>\n",
       "      <td>setosa</td>\n",
       "      <td>1</td>\n",
       "    </tr>\n",
       "    <tr>\n",
       "      <th>4</th>\n",
       "      <td>5.0</td>\n",
       "      <td>3.6</td>\n",
       "      <td>1.4</td>\n",
       "      <td>0.2</td>\n",
       "      <td>setosa</td>\n",
       "      <td>1</td>\n",
       "    </tr>\n",
       "    <tr>\n",
       "      <th>...</th>\n",
       "      <td>...</td>\n",
       "      <td>...</td>\n",
       "      <td>...</td>\n",
       "      <td>...</td>\n",
       "      <td>...</td>\n",
       "      <td>...</td>\n",
       "    </tr>\n",
       "    <tr>\n",
       "      <th>145</th>\n",
       "      <td>6.7</td>\n",
       "      <td>3.0</td>\n",
       "      <td>5.2</td>\n",
       "      <td>2.3</td>\n",
       "      <td>virginica</td>\n",
       "      <td>3</td>\n",
       "    </tr>\n",
       "    <tr>\n",
       "      <th>146</th>\n",
       "      <td>6.3</td>\n",
       "      <td>2.5</td>\n",
       "      <td>5.0</td>\n",
       "      <td>1.9</td>\n",
       "      <td>virginica</td>\n",
       "      <td>3</td>\n",
       "    </tr>\n",
       "    <tr>\n",
       "      <th>147</th>\n",
       "      <td>6.5</td>\n",
       "      <td>3.0</td>\n",
       "      <td>5.2</td>\n",
       "      <td>2.0</td>\n",
       "      <td>virginica</td>\n",
       "      <td>3</td>\n",
       "    </tr>\n",
       "    <tr>\n",
       "      <th>148</th>\n",
       "      <td>6.2</td>\n",
       "      <td>3.4</td>\n",
       "      <td>5.4</td>\n",
       "      <td>2.3</td>\n",
       "      <td>virginica</td>\n",
       "      <td>3</td>\n",
       "    </tr>\n",
       "    <tr>\n",
       "      <th>149</th>\n",
       "      <td>5.9</td>\n",
       "      <td>3.0</td>\n",
       "      <td>5.1</td>\n",
       "      <td>1.8</td>\n",
       "      <td>virginica</td>\n",
       "      <td>3</td>\n",
       "    </tr>\n",
       "  </tbody>\n",
       "</table>\n",
       "<p>150 rows × 6 columns</p>\n",
       "</div>"
      ],
      "text/plain": [
       "     sepal_length  sepal_width  petal_length  petal_width    species  \\\n",
       "0             5.1          3.5           1.4          0.2     setosa   \n",
       "1             4.9          3.0           1.4          0.2     setosa   \n",
       "2             4.7          3.2           1.3          0.2     setosa   \n",
       "3             4.6          3.1           1.5          0.2     setosa   \n",
       "4             5.0          3.6           1.4          0.2     setosa   \n",
       "..            ...          ...           ...          ...        ...   \n",
       "145           6.7          3.0           5.2          2.3  virginica   \n",
       "146           6.3          2.5           5.0          1.9  virginica   \n",
       "147           6.5          3.0           5.2          2.0  virginica   \n",
       "148           6.2          3.4           5.4          2.3  virginica   \n",
       "149           5.9          3.0           5.1          1.8  virginica   \n",
       "\n",
       "     species_id  \n",
       "0             1  \n",
       "1             1  \n",
       "2             1  \n",
       "3             1  \n",
       "4             1  \n",
       "..          ...  \n",
       "145           3  \n",
       "146           3  \n",
       "147           3  \n",
       "148           3  \n",
       "149           3  \n",
       "\n",
       "[150 rows x 6 columns]"
      ]
     },
     "execution_count": 8,
     "metadata": {},
     "output_type": "execute_result"
    }
   ],
   "source": [
    "import plotly.express as px\n",
    "import pandas as pd\n",
    "import ipywidgets as widgets\n",
    "from ipywidgets import interact, interact_manual\n",
    "df = px.data.iris()\n",
    "df"
   ]
  },
  {
   "cell_type": "code",
   "execution_count": 29,
   "id": "cb696d6b",
   "metadata": {},
   "outputs": [
    {
     "name": "stdout",
     "output_type": "stream",
     "text": [
      "        sepal_length  sepal_width  petal_length  petal_width species  \\\n",
      "count     150.000000   150.000000    150.000000   150.000000     150   \n",
      "unique           NaN          NaN           NaN          NaN       3   \n",
      "top              NaN          NaN           NaN          NaN  setosa   \n",
      "freq             NaN          NaN           NaN          NaN      50   \n",
      "mean        5.843333     3.054000      3.758667     1.198667     NaN   \n",
      "std         0.828066     0.433594      1.764420     0.763161     NaN   \n",
      "min         4.300000     2.000000      1.000000     0.100000     NaN   \n",
      "25%         5.100000     2.800000      1.600000     0.300000     NaN   \n",
      "50%         5.800000     3.000000      4.350000     1.300000     NaN   \n",
      "75%         6.400000     3.300000      5.100000     1.800000     NaN   \n",
      "max         7.900000     4.400000      6.900000     2.500000     NaN   \n",
      "\n",
      "        species_id  \n",
      "count   150.000000  \n",
      "unique         NaN  \n",
      "top            NaN  \n",
      "freq           NaN  \n",
      "mean      2.000000  \n",
      "std       0.819232  \n",
      "min       1.000000  \n",
      "25%       1.000000  \n",
      "50%       2.000000  \n",
      "75%       3.000000  \n",
      "max       3.000000  \n"
     ]
    }
   ],
   "source": [
    "print (df.describe(include='all'))"
   ]
  },
  {
   "cell_type": "markdown",
   "id": "324b2ad0",
   "metadata": {},
   "source": [
    "#### Let's start with a simple way to filter the dataframe via widgets, and display the results in a graph. In this first iteration, we'll create a different df for every filtering operation"
   ]
  },
  {
   "cell_type": "code",
   "execution_count": 15,
   "id": "e35c0ec3",
   "metadata": {},
   "outputs": [
    {
     "name": "stdout",
     "output_type": "stream",
     "text": [
      "Select values to filter the dataframe:\n"
     ]
    },
    {
     "data": {
      "application/vnd.jupyter.widget-view+json": {
       "model_id": "a89a8f0e0af04d7f92e06271f2d184de",
       "version_major": 2,
       "version_minor": 0
      },
      "text/plain": [
       "interactive(children=(Dropdown(description='MaxSepLen', options=(8, 7, 6, 5, 4, 3, 2, 1, 0), value=8), Dropdow…"
      ]
     },
     "metadata": {},
     "output_type": "display_data"
    },
    {
     "data": {
      "text/plain": [
       "<function __main__.show_df(MaxSepLen, MinSepLen, MinSepWidth, MaxSepWidth)>"
      ]
     },
     "execution_count": 15,
     "metadata": {},
     "output_type": "execute_result"
    }
   ],
   "source": [
    "print ('Select values to filter the dataframe:')\n",
    "def show_df(MaxSepLen, MinSepLen,MinSepWidth,MaxSepWidth):\n",
    " \n",
    "\n",
    "    df2 = (df[df['sepal_length']<=MaxSepLen])\n",
    "    df3 = (df2[df2['sepal_length']>=MinSepLen])\n",
    "    df4 = (df3[df3['sepal_width']>=MinSepWidth])\n",
    "    Filtered = (df4[df4['sepal_width']<=MaxSepWidth])\n",
    "    fig = px.scatter(Filtered, x='sepal_length', y='sepal_width', \n",
    "                     size = 'sepal_length',color = 'species')\n",
    "    fig.show()\n",
    "    \n",
    "    \n",
    "    \n",
    "    print ('Length of selected df: ',len(Filtered))\n",
    "    \n",
    "    \n",
    "interact(show_df, MaxSepLen = [8,7,6,5,4,3,2,1,0], \n",
    "         MinSepLen = [0,1,2,3,4,5,6,7,8],\n",
    "         MinSepWidth = [0,1,2,3,4,5],\n",
    "        MaxSepWidth = [5,4,3,2,1,0],\n",
    "        ) "
   ]
  },
  {
   "cell_type": "markdown",
   "id": "e00008b3",
   "metadata": {},
   "source": [
    "#### Creating a new df for every filtering opeation is not very efficient. Let's improve that a bit by creating only a single df for all filtering operations."
   ]
  },
  {
   "cell_type": "code",
   "execution_count": 34,
   "id": "95d2fc11",
   "metadata": {},
   "outputs": [
    {
     "name": "stdout",
     "output_type": "stream",
     "text": [
      "Select values to filter the dataframe:\n"
     ]
    },
    {
     "data": {
      "application/vnd.jupyter.widget-view+json": {
       "model_id": "7db4d3da8f404f108be83c6c36584782",
       "version_major": 2,
       "version_minor": 0
      },
      "text/plain": [
       "interactive(children=(Dropdown(description='MaxSepLen', options=(8, 7, 6, 5, 4, 3, 2, 1, 0), value=8), Dropdow…"
      ]
     },
     "metadata": {},
     "output_type": "display_data"
    },
    {
     "data": {
      "text/plain": [
       "<function __main__.show_df(MaxSepLen, MinSepLen, MinSepWidth, MaxSepWidth)>"
      ]
     },
     "execution_count": 34,
     "metadata": {},
     "output_type": "execute_result"
    }
   ],
   "source": [
    "print ('Select values to filter the dataframe:')\n",
    "def show_df(MaxSepLen, MinSepLen,MinSepWidth,MaxSepWidth):\n",
    "    df2 = (df[(df['sepal_length']<=MaxSepLen) & (df['sepal_length']>=MinSepLen)\n",
    "           & (df['sepal_width']>=MinSepWidth) & (df['sepal_width']<=MaxSepWidth)])\n",
    "\n",
    "    fig = px.scatter(df2, x='sepal_length', y='sepal_width', \n",
    "                     size = 'sepal_length',color = 'species')\n",
    "    fig.show()\n",
    "    \n",
    " \n",
    "    \n",
    "   \n",
    "    \n",
    "interact(show_df, MaxSepLen = [8,7,6,5,4,3,2,1,0], \n",
    "         MinSepLen = [0,1,2,3,4,5,6,7,8],\n",
    "         MinSepWidth = [0,1,2,3,4,5],\n",
    "        MaxSepWidth = [5,4,3,2,1,0],\n",
    "        ) \n",
    "\n",
    "\n"
   ]
  },
  {
   "cell_type": "code",
   "execution_count": null,
   "id": "3957e8e6",
   "metadata": {},
   "outputs": [],
   "source": []
  }
 ],
 "metadata": {
  "kernelspec": {
   "display_name": "Python 3 (ipykernel)",
   "language": "python",
   "name": "python3"
  },
  "language_info": {
   "codemirror_mode": {
    "name": "ipython",
    "version": 3
   },
   "file_extension": ".py",
   "mimetype": "text/x-python",
   "name": "python",
   "nbconvert_exporter": "python",
   "pygments_lexer": "ipython3",
   "version": "3.9.7"
  }
 },
 "nbformat": 4,
 "nbformat_minor": 5
}
